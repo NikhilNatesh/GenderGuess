{
 "cells": [
  {
   "cell_type": "code",
   "execution_count": 1,
   "id": "e69697c0-aecc-47c1-942b-25f2b93c2232",
   "metadata": {},
   "outputs": [],
   "source": [
    "import nltk"
   ]
  },
  {
   "cell_type": "code",
   "execution_count": 3,
   "id": "7ab88f7a-d4e3-415b-a00d-05be16d6ef44",
   "metadata": {},
   "outputs": [
    {
     "data": {
      "text/plain": [
       "['female.txt', 'male.txt']"
      ]
     },
     "execution_count": 3,
     "metadata": {},
     "output_type": "execute_result"
    }
   ],
   "source": [
    "nltk.corpus.names.fileids()"
   ]
  },
  {
   "cell_type": "code",
   "execution_count": 5,
   "id": "5228c669-6472-48a6-85c2-60a5b53bfb10",
   "metadata": {},
   "outputs": [],
   "source": [
    "fnames = nltk.corpus.names.words('female.txt')\n",
    "mnames = nltk.corpus.names.words('male.txt')"
   ]
  },
  {
   "cell_type": "code",
   "execution_count": 7,
   "id": "4cd82ea2-0868-402a-956c-50c01de7c398",
   "metadata": {},
   "outputs": [
    {
     "data": {
      "text/plain": [
       "5001"
      ]
     },
     "execution_count": 7,
     "metadata": {},
     "output_type": "execute_result"
    }
   ],
   "source": [
    "len(fnames)"
   ]
  },
  {
   "cell_type": "code",
   "execution_count": 9,
   "id": "111566d3-eaa6-4578-a3bc-e8a9dc766c6e",
   "metadata": {},
   "outputs": [
    {
     "data": {
      "text/plain": [
       "2943"
      ]
     },
     "execution_count": 9,
     "metadata": {},
     "output_type": "execute_result"
    }
   ],
   "source": [
    "len(mnames)"
   ]
  },
  {
   "cell_type": "code",
   "execution_count": 11,
   "id": "81b853d8-c608-4b0e-82ff-b5810abe495a",
   "metadata": {},
   "outputs": [],
   "source": [
    "import pandas as pd"
   ]
  },
  {
   "cell_type": "code",
   "execution_count": 13,
   "id": "1288876c-e861-4b32-97ad-80a57b25b86b",
   "metadata": {},
   "outputs": [],
   "source": [
    "names = pd.DataFrame(fnames,columns=['names'])\n",
    "names['gender'] = 'female'"
   ]
  },
  {
   "cell_type": "code",
   "execution_count": 17,
   "id": "2cdaf587-a2f3-40fd-a02d-cbb4d6436792",
   "metadata": {},
   "outputs": [],
   "source": [
    "all_names = pd.concat([names, pd.DataFrame({'names':mnames,'gender':'male'})])"
   ]
  },
  {
   "cell_type": "code",
   "execution_count": 19,
   "id": "6d8b38cf-1253-4c73-abfe-2dba24b13fda",
   "metadata": {},
   "outputs": [
    {
     "data": {
      "text/html": [
       "<div>\n",
       "<style scoped>\n",
       "    .dataframe tbody tr th:only-of-type {\n",
       "        vertical-align: middle;\n",
       "    }\n",
       "\n",
       "    .dataframe tbody tr th {\n",
       "        vertical-align: top;\n",
       "    }\n",
       "\n",
       "    .dataframe thead th {\n",
       "        text-align: right;\n",
       "    }\n",
       "</style>\n",
       "<table border=\"1\" class=\"dataframe\">\n",
       "  <thead>\n",
       "    <tr style=\"text-align: right;\">\n",
       "      <th></th>\n",
       "      <th>names</th>\n",
       "      <th>gender</th>\n",
       "    </tr>\n",
       "  </thead>\n",
       "  <tbody>\n",
       "    <tr>\n",
       "      <th>0</th>\n",
       "      <td>Abagael</td>\n",
       "      <td>female</td>\n",
       "    </tr>\n",
       "    <tr>\n",
       "      <th>1</th>\n",
       "      <td>Abagail</td>\n",
       "      <td>female</td>\n",
       "    </tr>\n",
       "    <tr>\n",
       "      <th>2</th>\n",
       "      <td>Abbe</td>\n",
       "      <td>female</td>\n",
       "    </tr>\n",
       "    <tr>\n",
       "      <th>3</th>\n",
       "      <td>Abbey</td>\n",
       "      <td>female</td>\n",
       "    </tr>\n",
       "    <tr>\n",
       "      <th>4</th>\n",
       "      <td>Abbi</td>\n",
       "      <td>female</td>\n",
       "    </tr>\n",
       "    <tr>\n",
       "      <th>...</th>\n",
       "      <td>...</td>\n",
       "      <td>...</td>\n",
       "    </tr>\n",
       "    <tr>\n",
       "      <th>2938</th>\n",
       "      <td>Zeus</td>\n",
       "      <td>male</td>\n",
       "    </tr>\n",
       "    <tr>\n",
       "      <th>2939</th>\n",
       "      <td>Zippy</td>\n",
       "      <td>male</td>\n",
       "    </tr>\n",
       "    <tr>\n",
       "      <th>2940</th>\n",
       "      <td>Zollie</td>\n",
       "      <td>male</td>\n",
       "    </tr>\n",
       "    <tr>\n",
       "      <th>2941</th>\n",
       "      <td>Zolly</td>\n",
       "      <td>male</td>\n",
       "    </tr>\n",
       "    <tr>\n",
       "      <th>2942</th>\n",
       "      <td>Zorro</td>\n",
       "      <td>male</td>\n",
       "    </tr>\n",
       "  </tbody>\n",
       "</table>\n",
       "<p>7944 rows × 2 columns</p>\n",
       "</div>"
      ],
      "text/plain": [
       "        names  gender\n",
       "0     Abagael  female\n",
       "1     Abagail  female\n",
       "2        Abbe  female\n",
       "3       Abbey  female\n",
       "4        Abbi  female\n",
       "...       ...     ...\n",
       "2938     Zeus    male\n",
       "2939    Zippy    male\n",
       "2940   Zollie    male\n",
       "2941    Zolly    male\n",
       "2942    Zorro    male\n",
       "\n",
       "[7944 rows x 2 columns]"
      ]
     },
     "execution_count": 19,
     "metadata": {},
     "output_type": "execute_result"
    }
   ],
   "source": [
    "all_names"
   ]
  },
  {
   "cell_type": "code",
   "execution_count": 21,
   "id": "d48a935a-1823-4542-b7a7-54644c84dd3d",
   "metadata": {},
   "outputs": [],
   "source": [
    "def feature_extraction(x):\n",
    "    x = x.lower()\n",
    "    features = {}\n",
    "    features['first'] = x[0]\n",
    "    features['last'] = x[-1]\n",
    "    features['nchar'] = len(x)\n",
    "    features['vowel_count'] = 0\n",
    "    for char in 'abcdefghijklmnopqrstuvwxyz':\n",
    "        features['contains_'+char] = char in x\n",
    "        features['countof_'+char] = x.count(char)\n",
    "        \n",
    "        if (char in 'aeiou') & (char in x):\n",
    "            features['vowel_count'] += x.count(char) # count total. no of vowels\n",
    "    if features['vowel_count'] > 0:\n",
    "        features['vowels'] = 1\n",
    "    else:\n",
    "        features['vowels'] = 0\n",
    "    return features\n"
   ]
  },
  {
   "cell_type": "code",
   "execution_count": 23,
   "id": "3168f7b9-ffff-447d-a33b-34d55d98493c",
   "metadata": {},
   "outputs": [
    {
     "data": {
      "text/plain": [
       "{'first': 's',\n",
       " 'last': 'm',\n",
       " 'nchar': 7,\n",
       " 'vowel_count': 2,\n",
       " 'contains_a': True,\n",
       " 'countof_a': 1,\n",
       " 'contains_b': True,\n",
       " 'countof_b': 1,\n",
       " 'contains_c': False,\n",
       " 'countof_c': 0,\n",
       " 'contains_d': False,\n",
       " 'countof_d': 0,\n",
       " 'contains_e': False,\n",
       " 'countof_e': 0,\n",
       " 'contains_f': False,\n",
       " 'countof_f': 0,\n",
       " 'contains_g': False,\n",
       " 'countof_g': 0,\n",
       " 'contains_h': True,\n",
       " 'countof_h': 2,\n",
       " 'contains_i': False,\n",
       " 'countof_i': 0,\n",
       " 'contains_j': False,\n",
       " 'countof_j': 0,\n",
       " 'contains_k': False,\n",
       " 'countof_k': 0,\n",
       " 'contains_l': False,\n",
       " 'countof_l': 0,\n",
       " 'contains_m': True,\n",
       " 'countof_m': 1,\n",
       " 'contains_n': False,\n",
       " 'countof_n': 0,\n",
       " 'contains_o': False,\n",
       " 'countof_o': 0,\n",
       " 'contains_p': False,\n",
       " 'countof_p': 0,\n",
       " 'contains_q': False,\n",
       " 'countof_q': 0,\n",
       " 'contains_r': False,\n",
       " 'countof_r': 0,\n",
       " 'contains_s': True,\n",
       " 'countof_s': 1,\n",
       " 'contains_t': False,\n",
       " 'countof_t': 0,\n",
       " 'contains_u': True,\n",
       " 'countof_u': 1,\n",
       " 'contains_v': False,\n",
       " 'countof_v': 0,\n",
       " 'contains_w': False,\n",
       " 'countof_w': 0,\n",
       " 'contains_x': False,\n",
       " 'countof_x': 0,\n",
       " 'contains_y': False,\n",
       " 'countof_y': 0,\n",
       " 'contains_z': False,\n",
       " 'countof_z': 0,\n",
       " 'vowels': 1}"
      ]
     },
     "execution_count": 23,
     "metadata": {},
     "output_type": "execute_result"
    }
   ],
   "source": [
    "feature_extraction('Shubham')"
   ]
  },
  {
   "cell_type": "code",
   "execution_count": 25,
   "id": "ce1f892e-0711-4c8e-a5e3-de06270f677c",
   "metadata": {},
   "outputs": [
    {
     "data": {
      "text/html": [
       "<div>\n",
       "<style scoped>\n",
       "    .dataframe tbody tr th:only-of-type {\n",
       "        vertical-align: middle;\n",
       "    }\n",
       "\n",
       "    .dataframe tbody tr th {\n",
       "        vertical-align: top;\n",
       "    }\n",
       "\n",
       "    .dataframe thead th {\n",
       "        text-align: right;\n",
       "    }\n",
       "</style>\n",
       "<table border=\"1\" class=\"dataframe\">\n",
       "  <thead>\n",
       "    <tr style=\"text-align: right;\">\n",
       "      <th></th>\n",
       "      <th>first</th>\n",
       "      <th>last</th>\n",
       "      <th>nchar</th>\n",
       "      <th>vowel_count</th>\n",
       "      <th>contains_a</th>\n",
       "      <th>countof_a</th>\n",
       "      <th>contains_b</th>\n",
       "      <th>countof_b</th>\n",
       "      <th>contains_c</th>\n",
       "      <th>countof_c</th>\n",
       "      <th>...</th>\n",
       "      <th>countof_v</th>\n",
       "      <th>contains_w</th>\n",
       "      <th>countof_w</th>\n",
       "      <th>contains_x</th>\n",
       "      <th>countof_x</th>\n",
       "      <th>contains_y</th>\n",
       "      <th>countof_y</th>\n",
       "      <th>contains_z</th>\n",
       "      <th>countof_z</th>\n",
       "      <th>vowels</th>\n",
       "    </tr>\n",
       "  </thead>\n",
       "  <tbody>\n",
       "    <tr>\n",
       "      <th>0</th>\n",
       "      <td>s</td>\n",
       "      <td>m</td>\n",
       "      <td>7</td>\n",
       "      <td>2</td>\n",
       "      <td>True</td>\n",
       "      <td>1</td>\n",
       "      <td>True</td>\n",
       "      <td>1</td>\n",
       "      <td>False</td>\n",
       "      <td>0</td>\n",
       "      <td>...</td>\n",
       "      <td>0</td>\n",
       "      <td>False</td>\n",
       "      <td>0</td>\n",
       "      <td>False</td>\n",
       "      <td>0</td>\n",
       "      <td>False</td>\n",
       "      <td>0</td>\n",
       "      <td>False</td>\n",
       "      <td>0</td>\n",
       "      <td>1</td>\n",
       "    </tr>\n",
       "  </tbody>\n",
       "</table>\n",
       "<p>1 rows × 57 columns</p>\n",
       "</div>"
      ],
      "text/plain": [
       "  first last nchar vowel_count contains_a countof_a contains_b countof_b  \\\n",
       "0     s    m     7           2       True         1       True         1   \n",
       "\n",
       "  contains_c countof_c  ... countof_v contains_w countof_w contains_x  \\\n",
       "0      False         0  ...         0      False         0      False   \n",
       "\n",
       "  countof_x contains_y countof_y contains_z countof_z vowels  \n",
       "0         0      False         0      False         0      1  \n",
       "\n",
       "[1 rows x 57 columns]"
      ]
     },
     "execution_count": 25,
     "metadata": {},
     "output_type": "execute_result"
    }
   ],
   "source": [
    "df = pd.DataFrame(feature_extraction('Shubham').values(),index=feature_extraction('Shubham').keys()).T\n",
    "df"
   ]
  },
  {
   "cell_type": "code",
   "execution_count": 27,
   "id": "ad17e323-344f-4ac9-b026-383f380f93e3",
   "metadata": {},
   "outputs": [],
   "source": [
    "labled_list = [(name,'Female') for name in fnames] + [(name,'Male') for name in mnames]"
   ]
  },
  {
   "cell_type": "code",
   "execution_count": 29,
   "id": "0301e089-b445-4ca5-8c74-c17842a1218f",
   "metadata": {},
   "outputs": [
    {
     "data": {
      "text/plain": [
       "('Abagael', 'Female')"
      ]
     },
     "execution_count": 29,
     "metadata": {},
     "output_type": "execute_result"
    }
   ],
   "source": [
    "labled_list[0]"
   ]
  },
  {
   "cell_type": "code",
   "execution_count": 31,
   "id": "a508029b-f634-4488-b173-0e3661cbef7d",
   "metadata": {},
   "outputs": [],
   "source": [
    "feature_list = [(feature_extraction(name),gender) for name, gender in labled_list]"
   ]
  },
  {
   "cell_type": "code",
   "execution_count": 35,
   "id": "49da07e3-4068-4478-afdc-2771240de36f",
   "metadata": {},
   "outputs": [],
   "source": [
    "from numpy import random"
   ]
  },
  {
   "cell_type": "code",
   "execution_count": 37,
   "id": "9bcf05b6-c9da-4e56-9387-2104428a58aa",
   "metadata": {},
   "outputs": [],
   "source": [
    "random.shuffle(feature_list)"
   ]
  },
  {
   "cell_type": "code",
   "execution_count": 39,
   "id": "43b15894-ac61-43c5-9618-b3eae96c66ef",
   "metadata": {},
   "outputs": [
    {
     "data": {
      "text/plain": [
       "7944"
      ]
     },
     "execution_count": 39,
     "metadata": {},
     "output_type": "execute_result"
    }
   ],
   "source": [
    "len(feature_list)"
   ]
  },
  {
   "cell_type": "code",
   "execution_count": 41,
   "id": "73800b86-d7b7-4257-8c0e-74c64c67f89f",
   "metadata": {},
   "outputs": [
    {
     "data": {
      "text/plain": [
       "6355.200000000001"
      ]
     },
     "execution_count": 41,
     "metadata": {},
     "output_type": "execute_result"
    }
   ],
   "source": [
    "len(feature_list)*.80"
   ]
  },
  {
   "cell_type": "code",
   "execution_count": 43,
   "id": "29c10e4e-c5f4-4ee0-b6ab-84a59c988cae",
   "metadata": {},
   "outputs": [],
   "source": [
    "train,test = feature_list[:7000],feature_list[7000:]"
   ]
  },
  {
   "cell_type": "code",
   "execution_count": 45,
   "id": "71a43848-5fe7-47af-9a4e-d6ce7cbfd12e",
   "metadata": {},
   "outputs": [],
   "source": [
    "clf = nltk.NaiveBayesClassifier.train(train)"
   ]
  },
  {
   "cell_type": "code",
   "execution_count": 47,
   "id": "5a1204df-d3e4-4f22-aa71-103d0145f2ec",
   "metadata": {},
   "outputs": [
    {
     "name": "stdout",
     "output_type": "stream",
     "text": [
      "0.7669491525423728\n"
     ]
    }
   ],
   "source": [
    "print(nltk.classify.accuracy(clf,test))"
   ]
  },
  {
   "cell_type": "code",
   "execution_count": 49,
   "id": "b7180db2-7304-474b-90c4-72861a94ddbf",
   "metadata": {},
   "outputs": [
    {
     "data": {
      "text/plain": [
       "'Male'"
      ]
     },
     "execution_count": 49,
     "metadata": {},
     "output_type": "execute_result"
    }
   ],
   "source": [
    "clf.classify(feature_extraction('Shubham'))"
   ]
  },
  {
   "cell_type": "code",
   "execution_count": 51,
   "id": "58ac1716-5ca2-4ce1-b6ff-1a79c7bc53d0",
   "metadata": {},
   "outputs": [],
   "source": [
    "pred = clf.classify_many([test_data for test_data, label in test])"
   ]
  },
  {
   "cell_type": "code",
   "execution_count": 53,
   "id": "8cab7d3c-1ca8-4ec3-a890-5903e5e88d97",
   "metadata": {},
   "outputs": [],
   "source": [
    "lables = [label for test_data, label in test]"
   ]
  },
  {
   "cell_type": "code",
   "execution_count": 55,
   "id": "e10659e7-9e15-49a9-a18e-adbd2eeae747",
   "metadata": {},
   "outputs": [
    {
     "data": {
      "text/html": [
       "<div>\n",
       "<style scoped>\n",
       "    .dataframe tbody tr th:only-of-type {\n",
       "        vertical-align: middle;\n",
       "    }\n",
       "\n",
       "    .dataframe tbody tr th {\n",
       "        vertical-align: top;\n",
       "    }\n",
       "\n",
       "    .dataframe thead th {\n",
       "        text-align: right;\n",
       "    }\n",
       "</style>\n",
       "<table border=\"1\" class=\"dataframe\">\n",
       "  <thead>\n",
       "    <tr style=\"text-align: right;\">\n",
       "      <th>col_0</th>\n",
       "      <th>Female</th>\n",
       "      <th>Male</th>\n",
       "    </tr>\n",
       "    <tr>\n",
       "      <th>row_0</th>\n",
       "      <th></th>\n",
       "      <th></th>\n",
       "    </tr>\n",
       "  </thead>\n",
       "  <tbody>\n",
       "    <tr>\n",
       "      <th>Female</th>\n",
       "      <td>490</td>\n",
       "      <td>105</td>\n",
       "    </tr>\n",
       "    <tr>\n",
       "      <th>Male</th>\n",
       "      <td>115</td>\n",
       "      <td>234</td>\n",
       "    </tr>\n",
       "  </tbody>\n",
       "</table>\n",
       "</div>"
      ],
      "text/plain": [
       "col_0   Female  Male\n",
       "row_0               \n",
       "Female     490   105\n",
       "Male       115   234"
      ]
     },
     "execution_count": 55,
     "metadata": {},
     "output_type": "execute_result"
    }
   ],
   "source": [
    "pd.crosstab(pd.Series(pred),pd.Series(lables))"
   ]
  },
  {
   "cell_type": "code",
   "execution_count": null,
   "id": "7888f478-7302-4096-b38d-c7cc2a0edef6",
   "metadata": {},
   "outputs": [],
   "source": []
  }
 ],
 "metadata": {
  "kernelspec": {
   "display_name": "Python 3 (ipykernel)",
   "language": "python",
   "name": "python3"
  },
  "language_info": {
   "codemirror_mode": {
    "name": "ipython",
    "version": 3
   },
   "file_extension": ".py",
   "mimetype": "text/x-python",
   "name": "python",
   "nbconvert_exporter": "python",
   "pygments_lexer": "ipython3",
   "version": "3.9.19"
  }
 },
 "nbformat": 4,
 "nbformat_minor": 5
}
